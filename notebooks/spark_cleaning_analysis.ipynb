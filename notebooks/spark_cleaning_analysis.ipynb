{
 "cells": [
  {
   "cell_type": "code",
   "execution_count": null,
   "metadata": {},
   "outputs": [],
   "source": [
    "from pyspark.sql import SparkSession\n",
    "spark = SparkSession.builder.appName(\"AmazonReviews\").getOrCreate()\n",
    "df = spark.read.csv(\"/path/to/amazon_reviews_2023.csv\", header=True, inferSchema=True)\n",
    "df_cleaned = df.dropna()\n",
    "df_cleaned.show()"
   ]
  }
 ],
 "metadata": {},
 "nbformat": 4,
 "nbformat_minor": 2
}
