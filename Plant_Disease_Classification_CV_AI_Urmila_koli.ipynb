{
  "nbformat": 4,
  "nbformat_minor": 0,
  "metadata": {
    "colab": {
      "provenance": [],
      "authorship_tag": "ABX9TyPEOSRGDqyPIGWJUiqaKDdO",
      "include_colab_link": true
    },
    "kernelspec": {
      "name": "python3",
      "display_name": "Python 3"
    },
    "language_info": {
      "name": "python"
    },
    "widgets": {
      "application/vnd.jupyter.widget-state+json": {
        "57e5215e0a994784b26ee30c9b9ee041": {
          "model_module": "@jupyter-widgets/controls",
          "model_name": "HBoxModel",
          "model_module_version": "1.5.0",
          "state": {
            "_dom_classes": [],
            "_model_module": "@jupyter-widgets/controls",
            "_model_module_version": "1.5.0",
            "_model_name": "HBoxModel",
            "_view_count": null,
            "_view_module": "@jupyter-widgets/controls",
            "_view_module_version": "1.5.0",
            "_view_name": "HBoxView",
            "box_style": "",
            "children": [
              "IPY_MODEL_e748f65abb1f43a7bacdc4c01d64b872",
              "IPY_MODEL_750d41f5da474042934abc6f19d6890b",
              "IPY_MODEL_73d28b2e7ab34b6c92b773a88e47f793"
            ],
            "layout": "IPY_MODEL_3143bb990bc94d7da7ad64f6633e44c1"
          }
        },
        "e748f65abb1f43a7bacdc4c01d64b872": {
          "model_module": "@jupyter-widgets/controls",
          "model_name": "HTMLModel",
          "model_module_version": "1.5.0",
          "state": {
            "_dom_classes": [],
            "_model_module": "@jupyter-widgets/controls",
            "_model_module_version": "1.5.0",
            "_model_name": "HTMLModel",
            "_view_count": null,
            "_view_module": "@jupyter-widgets/controls",
            "_view_module_version": "1.5.0",
            "_view_name": "HTMLView",
            "description": "",
            "description_tooltip": null,
            "layout": "IPY_MODEL_f0b91e759d5d4ee2b2751c268ed421f9",
            "placeholder": "​",
            "style": "IPY_MODEL_81e5efa5f6ea4db2856605f9e6b479fc",
            "value": "model.safetensors: 100%"
          }
        },
        "750d41f5da474042934abc6f19d6890b": {
          "model_module": "@jupyter-widgets/controls",
          "model_name": "FloatProgressModel",
          "model_module_version": "1.5.0",
          "state": {
            "_dom_classes": [],
            "_model_module": "@jupyter-widgets/controls",
            "_model_module_version": "1.5.0",
            "_model_name": "FloatProgressModel",
            "_view_count": null,
            "_view_module": "@jupyter-widgets/controls",
            "_view_module_version": "1.5.0",
            "_view_name": "ProgressView",
            "bar_style": "success",
            "description": "",
            "description_tooltip": null,
            "layout": "IPY_MODEL_901a8e9085c741bab5c25a0ddf52eae5",
            "max": 21355344,
            "min": 0,
            "orientation": "horizontal",
            "style": "IPY_MODEL_4503c5f135c842eb814d42dfef550599",
            "value": 21355344
          }
        },
        "73d28b2e7ab34b6c92b773a88e47f793": {
          "model_module": "@jupyter-widgets/controls",
          "model_name": "HTMLModel",
          "model_module_version": "1.5.0",
          "state": {
            "_dom_classes": [],
            "_model_module": "@jupyter-widgets/controls",
            "_model_module_version": "1.5.0",
            "_model_name": "HTMLModel",
            "_view_count": null,
            "_view_module": "@jupyter-widgets/controls",
            "_view_module_version": "1.5.0",
            "_view_name": "HTMLView",
            "description": "",
            "description_tooltip": null,
            "layout": "IPY_MODEL_172f2951493f46ab8a66ada385808b5d",
            "placeholder": "​",
            "style": "IPY_MODEL_51aba552629f4ffb94f7114aae7ccab4",
            "value": " 21.4M/21.4M [00:00&lt;00:00, 36.6MB/s]"
          }
        },
        "3143bb990bc94d7da7ad64f6633e44c1": {
          "model_module": "@jupyter-widgets/base",
          "model_name": "LayoutModel",
          "model_module_version": "1.2.0",
          "state": {
            "_model_module": "@jupyter-widgets/base",
            "_model_module_version": "1.2.0",
            "_model_name": "LayoutModel",
            "_view_count": null,
            "_view_module": "@jupyter-widgets/base",
            "_view_module_version": "1.2.0",
            "_view_name": "LayoutView",
            "align_content": null,
            "align_items": null,
            "align_self": null,
            "border": null,
            "bottom": null,
            "display": null,
            "flex": null,
            "flex_flow": null,
            "grid_area": null,
            "grid_auto_columns": null,
            "grid_auto_flow": null,
            "grid_auto_rows": null,
            "grid_column": null,
            "grid_gap": null,
            "grid_row": null,
            "grid_template_areas": null,
            "grid_template_columns": null,
            "grid_template_rows": null,
            "height": null,
            "justify_content": null,
            "justify_items": null,
            "left": null,
            "margin": null,
            "max_height": null,
            "max_width": null,
            "min_height": null,
            "min_width": null,
            "object_fit": null,
            "object_position": null,
            "order": null,
            "overflow": null,
            "overflow_x": null,
            "overflow_y": null,
            "padding": null,
            "right": null,
            "top": null,
            "visibility": null,
            "width": null
          }
        },
        "f0b91e759d5d4ee2b2751c268ed421f9": {
          "model_module": "@jupyter-widgets/base",
          "model_name": "LayoutModel",
          "model_module_version": "1.2.0",
          "state": {
            "_model_module": "@jupyter-widgets/base",
            "_model_module_version": "1.2.0",
            "_model_name": "LayoutModel",
            "_view_count": null,
            "_view_module": "@jupyter-widgets/base",
            "_view_module_version": "1.2.0",
            "_view_name": "LayoutView",
            "align_content": null,
            "align_items": null,
            "align_self": null,
            "border": null,
            "bottom": null,
            "display": null,
            "flex": null,
            "flex_flow": null,
            "grid_area": null,
            "grid_auto_columns": null,
            "grid_auto_flow": null,
            "grid_auto_rows": null,
            "grid_column": null,
            "grid_gap": null,
            "grid_row": null,
            "grid_template_areas": null,
            "grid_template_columns": null,
            "grid_template_rows": null,
            "height": null,
            "justify_content": null,
            "justify_items": null,
            "left": null,
            "margin": null,
            "max_height": null,
            "max_width": null,
            "min_height": null,
            "min_width": null,
            "object_fit": null,
            "object_position": null,
            "order": null,
            "overflow": null,
            "overflow_x": null,
            "overflow_y": null,
            "padding": null,
            "right": null,
            "top": null,
            "visibility": null,
            "width": null
          }
        },
        "81e5efa5f6ea4db2856605f9e6b479fc": {
          "model_module": "@jupyter-widgets/controls",
          "model_name": "DescriptionStyleModel",
          "model_module_version": "1.5.0",
          "state": {
            "_model_module": "@jupyter-widgets/controls",
            "_model_module_version": "1.5.0",
            "_model_name": "DescriptionStyleModel",
            "_view_count": null,
            "_view_module": "@jupyter-widgets/base",
            "_view_module_version": "1.2.0",
            "_view_name": "StyleView",
            "description_width": ""
          }
        },
        "901a8e9085c741bab5c25a0ddf52eae5": {
          "model_module": "@jupyter-widgets/base",
          "model_name": "LayoutModel",
          "model_module_version": "1.2.0",
          "state": {
            "_model_module": "@jupyter-widgets/base",
            "_model_module_version": "1.2.0",
            "_model_name": "LayoutModel",
            "_view_count": null,
            "_view_module": "@jupyter-widgets/base",
            "_view_module_version": "1.2.0",
            "_view_name": "LayoutView",
            "align_content": null,
            "align_items": null,
            "align_self": null,
            "border": null,
            "bottom": null,
            "display": null,
            "flex": null,
            "flex_flow": null,
            "grid_area": null,
            "grid_auto_columns": null,
            "grid_auto_flow": null,
            "grid_auto_rows": null,
            "grid_column": null,
            "grid_gap": null,
            "grid_row": null,
            "grid_template_areas": null,
            "grid_template_columns": null,
            "grid_template_rows": null,
            "height": null,
            "justify_content": null,
            "justify_items": null,
            "left": null,
            "margin": null,
            "max_height": null,
            "max_width": null,
            "min_height": null,
            "min_width": null,
            "object_fit": null,
            "object_position": null,
            "order": null,
            "overflow": null,
            "overflow_x": null,
            "overflow_y": null,
            "padding": null,
            "right": null,
            "top": null,
            "visibility": null,
            "width": null
          }
        },
        "4503c5f135c842eb814d42dfef550599": {
          "model_module": "@jupyter-widgets/controls",
          "model_name": "ProgressStyleModel",
          "model_module_version": "1.5.0",
          "state": {
            "_model_module": "@jupyter-widgets/controls",
            "_model_module_version": "1.5.0",
            "_model_name": "ProgressStyleModel",
            "_view_count": null,
            "_view_module": "@jupyter-widgets/base",
            "_view_module_version": "1.2.0",
            "_view_name": "StyleView",
            "bar_color": null,
            "description_width": ""
          }
        },
        "172f2951493f46ab8a66ada385808b5d": {
          "model_module": "@jupyter-widgets/base",
          "model_name": "LayoutModel",
          "model_module_version": "1.2.0",
          "state": {
            "_model_module": "@jupyter-widgets/base",
            "_model_module_version": "1.2.0",
            "_model_name": "LayoutModel",
            "_view_count": null,
            "_view_module": "@jupyter-widgets/base",
            "_view_module_version": "1.2.0",
            "_view_name": "LayoutView",
            "align_content": null,
            "align_items": null,
            "align_self": null,
            "border": null,
            "bottom": null,
            "display": null,
            "flex": null,
            "flex_flow": null,
            "grid_area": null,
            "grid_auto_columns": null,
            "grid_auto_flow": null,
            "grid_auto_rows": null,
            "grid_column": null,
            "grid_gap": null,
            "grid_row": null,
            "grid_template_areas": null,
            "grid_template_columns": null,
            "grid_template_rows": null,
            "height": null,
            "justify_content": null,
            "justify_items": null,
            "left": null,
            "margin": null,
            "max_height": null,
            "max_width": null,
            "min_height": null,
            "min_width": null,
            "object_fit": null,
            "object_position": null,
            "order": null,
            "overflow": null,
            "overflow_x": null,
            "overflow_y": null,
            "padding": null,
            "right": null,
            "top": null,
            "visibility": null,
            "width": null
          }
        },
        "51aba552629f4ffb94f7114aae7ccab4": {
          "model_module": "@jupyter-widgets/controls",
          "model_name": "DescriptionStyleModel",
          "model_module_version": "1.5.0",
          "state": {
            "_model_module": "@jupyter-widgets/controls",
            "_model_module_version": "1.5.0",
            "_model_name": "DescriptionStyleModel",
            "_view_count": null,
            "_view_module": "@jupyter-widgets/base",
            "_view_module_version": "1.2.0",
            "_view_name": "StyleView",
            "description_width": ""
          }
        }
      }
    }
  },
  "cells": [
    {
      "cell_type": "markdown",
      "metadata": {
        "id": "view-in-github",
        "colab_type": "text"
      },
      "source": [
        "<a href=\"https://colab.research.google.com/github/Urmilakoli/big-data-product-rating-prediction/blob/main/Plant_Disease_Classification_CV_AI_Urmila_koli.ipynb\" target=\"_parent\"><img src=\"https://colab.research.google.com/assets/colab-badge.svg\" alt=\"Open In Colab\"/></a>"
      ]
    },
    {
      "cell_type": "code",
      "execution_count": 1,
      "metadata": {
        "id": "RMkDqesPqrga"
      },
      "outputs": [],
      "source": [
        "# Purge heavy frameworks you’re not using (RAPIDS/TF/CuPy/etc.)\n",
        "%pip -q uninstall -y \\\n",
        "  cudf-cu12 cuml-cu12 dask-cudf-cu12 dask-cuda pylibcugraph-cu12 nx-cugraph-cu12 \\\n",
        "  cupy-cuda12x tensorflow tensorflow-decision-forests dopamine-rl \\\n",
        "  stumpy pynndescent librosa shap"
      ]
    },
    {
      "cell_type": "code",
      "source": [
        "# [1.1] Check GPU\n",
        "import torch, sys, platform\n",
        "print(\"PyTorch:\", torch.__version__)\n",
        "print(\"CUDA available:\", torch.cuda.is_available())"
      ],
      "metadata": {
        "colab": {
          "base_uri": "https://localhost:8080/"
        },
        "id": "YgkJbQrVquh2",
        "outputId": "f8329da9-336b-4f77-c320-ff7ad360f669"
      },
      "execution_count": 2,
      "outputs": [
        {
          "output_type": "stream",
          "name": "stdout",
          "text": [
            "PyTorch: 2.8.0+cu126\n",
            "CUDA available: False\n"
          ]
        }
      ]
    },
    {
      "cell_type": "code",
      "source": [
        "!pip -q install --upgrade pip\n",
        "!pip -q install torchvision timm==1.0.9 albumentations==1.4.6 opencv-python==4.10.0.84 matplotlib==3.9.2 scikit-learn==1.5.2 tqdm==4.66.5\n"
      ],
      "metadata": {
        "colab": {
          "base_uri": "https://localhost:8080/"
        },
        "id": "wSNLxX26qw8i",
        "outputId": "8f804f49-98bd-4293-9d6d-bfec94f4ca4e"
      },
      "execution_count": 3,
      "outputs": [
        {
          "output_type": "stream",
          "name": "stdout",
          "text": [
            "\u001b[?25l   \u001b[90m━━━━━━━━━━━━━━━━━━━━━━━━━━━━━━━━━━━━━━━━\u001b[0m \u001b[32m0.0/1.8 MB\u001b[0m \u001b[31m?\u001b[0m eta \u001b[36m-:--:--\u001b[0m\r\u001b[2K   \u001b[91m━━━━━━━━━━━━━━━━━\u001b[0m\u001b[91m╸\u001b[0m\u001b[90m━━━━━━━━━━━━━━━━━━━━━━\u001b[0m \u001b[32m0.8/1.8 MB\u001b[0m \u001b[31m23.6 MB/s\u001b[0m eta \u001b[36m0:00:01\u001b[0m\r\u001b[2K   \u001b[90m━━━━━━━━━━━━━━━━━━━━━━━━━━━━━━━━━━━━━━━━\u001b[0m \u001b[32m1.8/1.8 MB\u001b[0m \u001b[31m29.7 MB/s\u001b[0m eta \u001b[36m0:00:00\u001b[0m\n",
            "\u001b[?25h\u001b[31mERROR: pip's dependency resolver does not currently take into account all the packages that are installed. This behaviour is the source of the following dependency conflicts.\n",
            "tsfresh 0.21.1 requires stumpy>=1.7.2, which is not installed.\n",
            "umap-learn 0.5.9.post2 requires pynndescent>=0.5, which is not installed.\n",
            "umap-learn 0.5.9.post2 requires scikit-learn>=1.6, but you have scikit-learn 1.5.2 which is incompatible.\n",
            "dataproc-spark-connect 0.8.3 requires tqdm>=4.67, but you have tqdm 4.66.5 which is incompatible.\u001b[0m\u001b[31m\n",
            "\u001b[0m"
          ]
        }
      ]
    },
    {
      "cell_type": "code",
      "source": [
        "import matplotlib.pyplot as plt\n",
        "import numpy as np, os, shutil, random, json\n"
      ],
      "metadata": {
        "id": "3z_uxYDQqzEN"
      },
      "execution_count": null,
      "outputs": []
    },
    {
      "cell_type": "code",
      "source": [
        "# [3B.1] Clone PlantDoc dataset\n",
        "!git clone https://github.com/pratikkayal/PlantDoc-Dataset.git /content/PlantDoc-Dataset\n",
        "!find /content/PlantDoc-Dataset -maxdepth 2 -type d | head -n 20\n",
        "\n"
      ],
      "metadata": {
        "colab": {
          "base_uri": "https://localhost:8080/"
        },
        "id": "luQLcVmIr8jM",
        "outputId": "c245bc56-fc9e-49c3-b327-66fb3157d0d4"
      },
      "execution_count": 8,
      "outputs": [
        {
          "output_type": "stream",
          "name": "stdout",
          "text": [
            "Cloning into '/content/PlantDoc-Dataset'...\n",
            "remote: Enumerating objects: 2670, done.\u001b[K\n",
            "remote: Counting objects: 100% (35/35), done.\u001b[K\n",
            "remote: Compressing objects: 100% (13/13), done.\u001b[K\n",
            "remote: Total 2670 (delta 22), reused 22 (delta 22), pack-reused 2635 (from 1)\u001b[K\n",
            "Receiving objects: 100% (2670/2670), 932.92 MiB | 42.52 MiB/s, done.\n",
            "Resolving deltas: 100% (24/24), done.\n",
            "Updating files: 100% (2581/2581), done.\n",
            "/content/PlantDoc-Dataset\n",
            "/content/PlantDoc-Dataset/.git\n",
            "/content/PlantDoc-Dataset/.git/hooks\n",
            "/content/PlantDoc-Dataset/.git/objects\n",
            "/content/PlantDoc-Dataset/.git/branches\n",
            "/content/PlantDoc-Dataset/.git/logs\n",
            "/content/PlantDoc-Dataset/.git/refs\n",
            "/content/PlantDoc-Dataset/.git/info\n",
            "/content/PlantDoc-Dataset/train\n",
            "/content/PlantDoc-Dataset/train/Cherry leaf\n",
            "/content/PlantDoc-Dataset/train/Bell_pepper leaf spot\n",
            "/content/PlantDoc-Dataset/train/Tomato Early blight leaf\n",
            "/content/PlantDoc-Dataset/train/Potato leaf early blight\n",
            "/content/PlantDoc-Dataset/train/Tomato leaf late blight\n",
            "/content/PlantDoc-Dataset/train/Tomato leaf mosaic virus\n",
            "/content/PlantDoc-Dataset/train/Apple leaf\n",
            "/content/PlantDoc-Dataset/train/Soyabean leaf\n",
            "/content/PlantDoc-Dataset/train/Corn rust leaf\n",
            "/content/PlantDoc-Dataset/train/Apple rust leaf\n",
            "/content/PlantDoc-Dataset/train/Tomato Septoria leaf spot\n"
          ]
        }
      ]
    },
    {
      "cell_type": "markdown",
      "source": [],
      "metadata": {
        "id": "WaCdPZOstF_s"
      }
    },
    {
      "cell_type": "code",
      "source": [
        "# Use the path where you cloned the repo:\n",
        "BASE_DIR = \"/content/PlantDoc-Dataset\"\n",
        "\n",
        "# (If you used the ZIP instead, it’s usually:)\n",
        "# BASE_DIR = \"/content/PlantDoc-Dataset-master/PlantDoc-Dataset/PlantDoc-Dataset\"\n"
      ],
      "metadata": {
        "id": "5q5y9yfdsiJ7"
      },
      "execution_count": 9,
      "outputs": []
    },
    {
      "cell_type": "code",
      "source": [
        "!find \"$BASE_DIR\" -maxdepth 2 -type d | head -n 20\n"
      ],
      "metadata": {
        "colab": {
          "base_uri": "https://localhost:8080/"
        },
        "id": "QiTXKom0tBJh",
        "outputId": "e01ff8db-21f5-4bb5-d257-26f09fbd5b0f"
      },
      "execution_count": 10,
      "outputs": [
        {
          "output_type": "stream",
          "name": "stdout",
          "text": [
            "/content/PlantDoc-Dataset\n",
            "/content/PlantDoc-Dataset/.git\n",
            "/content/PlantDoc-Dataset/.git/hooks\n",
            "/content/PlantDoc-Dataset/.git/objects\n",
            "/content/PlantDoc-Dataset/.git/branches\n",
            "/content/PlantDoc-Dataset/.git/logs\n",
            "/content/PlantDoc-Dataset/.git/refs\n",
            "/content/PlantDoc-Dataset/.git/info\n",
            "/content/PlantDoc-Dataset/train\n",
            "/content/PlantDoc-Dataset/train/Cherry leaf\n",
            "/content/PlantDoc-Dataset/train/Bell_pepper leaf spot\n",
            "/content/PlantDoc-Dataset/train/Tomato Early blight leaf\n",
            "/content/PlantDoc-Dataset/train/Potato leaf early blight\n",
            "/content/PlantDoc-Dataset/train/Tomato leaf late blight\n",
            "/content/PlantDoc-Dataset/train/Tomato leaf mosaic virus\n",
            "/content/PlantDoc-Dataset/train/Apple leaf\n",
            "/content/PlantDoc-Dataset/train/Soyabean leaf\n",
            "/content/PlantDoc-Dataset/train/Corn rust leaf\n",
            "/content/PlantDoc-Dataset/train/Apple rust leaf\n",
            "/content/PlantDoc-Dataset/train/Tomato Septoria leaf spot\n"
          ]
        }
      ]
    },
    {
      "cell_type": "markdown",
      "source": [
        "Verify images- clean"
      ],
      "metadata": {
        "id": "uCWq2_FBtRQj"
      }
    },
    {
      "cell_type": "code",
      "source": [
        "from PIL import Image, UnidentifiedImageError\n",
        "import pathlib, tqdm as tq, os\n",
        "\n",
        "def verify_images(root):\n",
        "    bad = []\n",
        "    for p in tq.tqdm(list(pathlib.Path(root).rglob(\"*.*\"))):\n",
        "        try:\n",
        "            with Image.open(p) as im:\n",
        "                im.verify()\n",
        "        except (UnidentifiedImageError, OSError):\n",
        "            bad.append(str(p))\n",
        "            try:\n",
        "                os.remove(p)\n",
        "            except:\n",
        "                pass\n",
        "    return bad\n",
        "\n",
        "bad_files = verify_images(BASE_DIR)\n",
        "print(\"Corrupt/Unreadable removed:\", len(bad_files))\n"
      ],
      "metadata": {
        "colab": {
          "base_uri": "https://localhost:8080/"
        },
        "id": "-912DaHWtDXd",
        "outputId": "5ed70e42-1424-4854-e49f-e75492f7ebac"
      },
      "execution_count": 11,
      "outputs": [
        {
          "output_type": "stream",
          "name": "stderr",
          "text": [
            "100%|██████████| 2597/2597 [00:01<00:00, 2167.62it/s]"
          ]
        },
        {
          "output_type": "stream",
          "name": "stdout",
          "text": [
            "Corrupt/Unreadable removed: 18\n"
          ]
        },
        {
          "output_type": "stream",
          "name": "stderr",
          "text": [
            "\n"
          ]
        }
      ]
    },
    {
      "cell_type": "markdown",
      "source": [
        "80/10/10 split"
      ],
      "metadata": {
        "id": "Ty3gLDg-tUrz"
      }
    },
    {
      "cell_type": "code",
      "source": [
        "from sklearn.model_selection import train_test_split\n",
        "import os, glob, shutil, random, numpy as np\n",
        "from pathlib import Path\n",
        "\n",
        "IMG_EXTS = {\".jpg\", \".jpeg\", \".png\", \".bmp\", \".tif\", \".tiff\", \".webp\"}\n",
        "\n",
        "def _is_image(p: Path):\n",
        "    return p.is_file() and p.suffix.lower() in IMG_EXTS\n",
        "\n",
        "def _collect_by_class(base: str):\n",
        "    \"\"\"\n",
        "    Returns dict: {class_name: [list of image paths]}.\n",
        "    Works for:\n",
        "      (A) base/class_name/*.jpg\n",
        "      (B) base/{train,val,valid,test}/class_name/*.jpg\n",
        "    \"\"\"\n",
        "    base_p = Path(base)\n",
        "    entries = [d.name for d in base_p.iterdir() if d.is_dir()]\n",
        "    subset_candidates = {\"train\", \"val\", \"valid\", \"test\"}\n",
        "    has_subsets = any(e.lower() in subset_candidates for e in entries)\n",
        "\n",
        "    by_class = {}\n",
        "\n",
        "    if not has_subsets:\n",
        "        # Layout A: base/class/*.*\n",
        "        for cls_dir in sorted(d for d in base_p.iterdir() if d.is_dir()):\n",
        "            files = [p for p in cls_dir.glob(\"*\") if _is_image(p)]\n",
        "            if files:\n",
        "                by_class[cls_dir.name] = files\n",
        "    else:\n",
        "        # Layout B: base/subset/class/*.*\n",
        "        for subset in (\"train\", \"val\", \"valid\", \"test\"):\n",
        "            subset_dir = base_p / subset\n",
        "            if not subset_dir.is_dir():\n",
        "                continue\n",
        "            for cls_dir in sorted(d for d in subset_dir.iterdir() if d.is_dir()):\n",
        "                files = [p for p in cls_dir.glob(\"*\") if _is_image(p)]\n",
        "                if files:\n",
        "                    by_class.setdefault(cls_dir.name, []).extend(files)\n",
        "\n",
        "    return by_class\n",
        "\n",
        "def make_split(base, out=\"/content/plant_split\", seed=42):\n",
        "    random.seed(seed); np.random.seed(seed)\n",
        "\n",
        "    by_class = _collect_by_class(base)\n",
        "    classes = sorted(by_class.keys())\n",
        "    if not classes:\n",
        "        raise RuntimeError(f\"No classes/images found under {base}\")\n",
        "\n",
        "    # Create output dirs\n",
        "    for subset in [\"train\",\"val\",\"test\"]:\n",
        "        for c in classes:\n",
        "            os.makedirs(os.path.join(out, subset, c), exist_ok=True)\n",
        "\n",
        "    # Split and copy\n",
        "    for c in classes:\n",
        "        files = by_class[c]\n",
        "        files = sorted(files)  # deterministic ordering before splitting\n",
        "\n",
        "        # Handle small classes safely\n",
        "        if len(files) < 3:\n",
        "            target_subset = \"train\" if len(files) >= 1 else None\n",
        "            if target_subset:\n",
        "                for f in files:\n",
        "                    dst = os.path.join(out, target_subset, c, os.path.basename(f))\n",
        "                    if not os.path.exists(dst):\n",
        "                        shutil.copy2(str(f), dst)\n",
        "            continue\n",
        "\n",
        "        # Per-class split (no need to stratify since we split class-by-class)\n",
        "        train_files, temp = train_test_split(files, test_size=0.2, random_state=seed)\n",
        "        if len(temp) < 2:\n",
        "            val_files, test_files = temp[:1], temp[1:]\n",
        "        else:\n",
        "            val_files, test_files = train_test_split(temp, test_size=0.5, random_state=seed)\n",
        "\n",
        "        for srcs, subset in [(train_files,\"train\"), (val_files,\"val\"), (test_files,\"test\")]:\n",
        "            for f in srcs:\n",
        "                dst = os.path.join(out, subset, c, os.path.basename(f))\n",
        "                if not os.path.exists(dst):\n",
        "                    shutil.copy2(str(f), dst)\n",
        "\n",
        "    return classes, out\n",
        "\n",
        "classes, SPLIT_DIR = make_split(BASE_DIR)\n",
        "print(len(classes), classes[:10])\n",
        "print(\"Split at:\", SPLIT_DIR)\n"
      ],
      "metadata": {
        "colab": {
          "base_uri": "https://localhost:8080/"
        },
        "id": "n6ESg3zMtYtm",
        "outputId": "281fae2e-eb93-46fe-e9f2-3740c7db33bd"
      },
      "execution_count": 12,
      "outputs": [
        {
          "output_type": "stream",
          "name": "stdout",
          "text": [
            "28 ['Apple Scab Leaf', 'Apple leaf', 'Apple rust leaf', 'Bell_pepper leaf', 'Bell_pepper leaf spot', 'Blueberry leaf', 'Cherry leaf', 'Corn Gray leaf spot', 'Corn leaf blight', 'Corn rust leaf']\n",
            "Split at: /content/plant_split\n"
          ]
        }
      ]
    },
    {
      "cell_type": "code",
      "source": [
        "def count_images(root):\n",
        "    counts = {}\n",
        "    for subset in [\"train\",\"val\",\"test\"]:\n",
        "        total = 0\n",
        "        for c in classes:\n",
        "            n = len([f for f in glob.glob(os.path.join(root, subset, c, \"*\")) if os.path.isfile(f)])\n",
        "            total += n\n",
        "        counts[subset] = total\n",
        "    return counts\n",
        "\n",
        "print(count_images(SPLIT_DIR))\n"
      ],
      "metadata": {
        "colab": {
          "base_uri": "https://localhost:8080/"
        },
        "id": "MF_y8f94tflM",
        "outputId": "e0cc55e1-0d0c-464b-c46f-17ebb92c3a15"
      },
      "execution_count": 13,
      "outputs": [
        {
          "output_type": "stream",
          "name": "stdout",
          "text": [
            "{'train': 2049, 'val': 257, 'test': 271}\n"
          ]
        }
      ]
    },
    {
      "cell_type": "code",
      "source": [
        "# [5.1] Transforms & datasets\n",
        "import albumentations as A\n",
        "from albumentations.pytorch import ToTensorV2\n",
        "from torch.utils.data import Dataset, DataLoader, WeightedRandomSampler\n",
        "import cv2, math\n",
        "\n",
        "IMG_SIZE = 224\n",
        "MEAN = (0.485,0.456,0.406)\n",
        "STD  = (0.229,0.224,0.225)\n",
        "\n",
        "train_tfms = A.Compose([\n",
        "    A.RandomResizedCrop(IMG_SIZE, IMG_SIZE, scale=(0.7, 1.0)),\n",
        "    A.HorizontalFlip(p=0.5),\n",
        "    A.VerticalFlip(p=0.2),\n",
        "    A.RandomBrightnessContrast(p=0.2),\n",
        "    A.ShiftScaleRotate(shift_limit=0.05, scale_limit=0.1, rotate_limit=15, p=0.5),\n",
        "    A.CoarseDropout(max_holes=1, max_height=IMG_SIZE//10, max_width=IMG_SIZE//10, p=0.2),\n",
        "    A.Normalize(mean=MEAN, std=STD),\n",
        "    ToTensorV2()\n",
        "])\n",
        "\n",
        "val_tfms = A.Compose([\n",
        "    A.Resize(IMG_SIZE, IMG_SIZE),\n",
        "    A.Normalize(mean=MEAN, std=STD),\n",
        "    ToTensorV2()\n",
        "])\n",
        "\n",
        "class ImageFolderA(Dataset):\n",
        "    def __init__(self, root, tfm):\n",
        "        self.items, self.labels, self.classes = [], [], sorted(os.listdir(root))\n",
        "        self.class_to_idx = {c:i for i,c in enumerate(self.classes)}\n",
        "        for c in self.classes:\n",
        "            cdir = os.path.join(root, c)\n",
        "            for f in os.listdir(cdir):\n",
        "                self.items.append(os.path.join(cdir, f))\n",
        "                self.labels.append(self.class_to_idx[c])\n",
        "        self.tfm = tfm\n",
        "    def __len__(self): return len(self.items)\n",
        "    def __getitem__(self, i):\n",
        "        path, y = self.items[i], self.labels[i]\n",
        "        im = cv2.cvtColor(cv2.imread(path), cv2.COLOR_BGR2RGB)\n",
        "        im = self.tfm(image=im)[\"image\"]\n",
        "        return im, y\n",
        "\n",
        "train_ds = ImageFolderA(os.path.join(SPLIT_DIR, \"train\"), train_tfms)\n",
        "val_ds   = ImageFolderA(os.path.join(SPLIT_DIR, \"val\"),   val_tfms)\n",
        "test_ds  = ImageFolderA(os.path.join(SPLIT_DIR, \"test\"),  val_tfms)"
      ],
      "metadata": {
        "id": "53Qsyz3TtlZF"
      },
      "execution_count": 14,
      "outputs": []
    },
    {
      "cell_type": "code",
      "source": [
        "# [5.2] Handle class imbalance with a WeightedRandomSampler\n",
        "from collections import Counter\n",
        "class_counts = Counter(train_ds.labels)\n",
        "num_samples = len(train_ds)\n",
        "weights = [1.0 / class_counts[y] for y in train_ds.labels]\n",
        "sampler = WeightedRandomSampler(weights, num_samples=num_samples, replacement=True)\n",
        "\n",
        "BATCH = 64\n",
        "train_loader = DataLoader(train_ds, batch_size=BATCH, sampler=sampler, num_workers=2, pin_memory=True)\n",
        "val_loader   = DataLoader(val_ds,   batch_size=BATCH, shuffle=False, num_workers=2, pin_memory=True)\n",
        "test_loader  = DataLoader(test_ds,  batch_size=BATCH, shuffle=False, num_workers=2, pin_memory=True)\n",
        "\n",
        "len(train_ds), len(val_ds), len(test_ds), len(classes)"
      ],
      "metadata": {
        "colab": {
          "base_uri": "https://localhost:8080/"
        },
        "id": "gKlpZWU3t8o3",
        "outputId": "bf04c1cd-f368-47e2-b6e4-56787ee7ab96"
      },
      "execution_count": 15,
      "outputs": [
        {
          "output_type": "execute_result",
          "data": {
            "text/plain": [
              "(2049, 257, 271, 28)"
            ]
          },
          "metadata": {},
          "execution_count": 15
        }
      ]
    },
    {
      "cell_type": "markdown",
      "source": [
        "Dataset Sizes printed"
      ],
      "metadata": {
        "id": "kSbDZzxGt-V-"
      }
    },
    {
      "cell_type": "markdown",
      "source": [
        "Model : efficient Net-b0 (build model)"
      ],
      "metadata": {
        "id": "_FG_LLM4uGZE"
      }
    },
    {
      "cell_type": "code",
      "source": [
        "import timm, torch.nn as nn, torch\n",
        "device = torch.device(\"cuda\" if torch.cuda.is_available() else \"cpu\")\n",
        "\n",
        "model = timm.create_model(\"efficientnet_b0\", pretrained=True, num_classes=len(classes))\n",
        "# (timm sets classifier automatically when num_classes provided)\n",
        "model.to(device)"
      ],
      "metadata": {
        "colab": {
          "base_uri": "https://localhost:8080/",
          "height": 1000,
          "referenced_widgets": [
            "57e5215e0a994784b26ee30c9b9ee041",
            "e748f65abb1f43a7bacdc4c01d64b872",
            "750d41f5da474042934abc6f19d6890b",
            "73d28b2e7ab34b6c92b773a88e47f793",
            "3143bb990bc94d7da7ad64f6633e44c1",
            "f0b91e759d5d4ee2b2751c268ed421f9",
            "81e5efa5f6ea4db2856605f9e6b479fc",
            "901a8e9085c741bab5c25a0ddf52eae5",
            "4503c5f135c842eb814d42dfef550599",
            "172f2951493f46ab8a66ada385808b5d",
            "51aba552629f4ffb94f7114aae7ccab4"
          ]
        },
        "id": "IlfMGqdouD_c",
        "outputId": "31631563-c6ac-49d2-ed37-2c062639452d"
      },
      "execution_count": 16,
      "outputs": [
        {
          "output_type": "stream",
          "name": "stderr",
          "text": [
            "/usr/local/lib/python3.12/dist-packages/huggingface_hub/utils/_auth.py:94: UserWarning: \n",
            "The secret `HF_TOKEN` does not exist in your Colab secrets.\n",
            "To authenticate with the Hugging Face Hub, create a token in your settings tab (https://huggingface.co/settings/tokens), set it as secret in your Google Colab and restart your session.\n",
            "You will be able to reuse this secret in all of your notebooks.\n",
            "Please note that authentication is recommended but still optional to access public models or datasets.\n",
            "  warnings.warn(\n"
          ]
        },
        {
          "output_type": "display_data",
          "data": {
            "text/plain": [
              "model.safetensors:   0%|          | 0.00/21.4M [00:00<?, ?B/s]"
            ],
            "application/vnd.jupyter.widget-view+json": {
              "version_major": 2,
              "version_minor": 0,
              "model_id": "57e5215e0a994784b26ee30c9b9ee041"
            }
          },
          "metadata": {}
        },
        {
          "output_type": "execute_result",
          "data": {
            "text/plain": [
              "EfficientNet(\n",
              "  (conv_stem): Conv2d(3, 32, kernel_size=(3, 3), stride=(2, 2), padding=(1, 1), bias=False)\n",
              "  (bn1): BatchNormAct2d(\n",
              "    32, eps=1e-05, momentum=0.1, affine=True, track_running_stats=True\n",
              "    (drop): Identity()\n",
              "    (act): SiLU(inplace=True)\n",
              "  )\n",
              "  (blocks): Sequential(\n",
              "    (0): Sequential(\n",
              "      (0): DepthwiseSeparableConv(\n",
              "        (conv_dw): Conv2d(32, 32, kernel_size=(3, 3), stride=(1, 1), padding=(1, 1), groups=32, bias=False)\n",
              "        (bn1): BatchNormAct2d(\n",
              "          32, eps=1e-05, momentum=0.1, affine=True, track_running_stats=True\n",
              "          (drop): Identity()\n",
              "          (act): SiLU(inplace=True)\n",
              "        )\n",
              "        (aa): Identity()\n",
              "        (se): SqueezeExcite(\n",
              "          (conv_reduce): Conv2d(32, 8, kernel_size=(1, 1), stride=(1, 1))\n",
              "          (act1): SiLU(inplace=True)\n",
              "          (conv_expand): Conv2d(8, 32, kernel_size=(1, 1), stride=(1, 1))\n",
              "          (gate): Sigmoid()\n",
              "        )\n",
              "        (conv_pw): Conv2d(32, 16, kernel_size=(1, 1), stride=(1, 1), bias=False)\n",
              "        (bn2): BatchNormAct2d(\n",
              "          16, eps=1e-05, momentum=0.1, affine=True, track_running_stats=True\n",
              "          (drop): Identity()\n",
              "          (act): Identity()\n",
              "        )\n",
              "        (drop_path): Identity()\n",
              "      )\n",
              "    )\n",
              "    (1): Sequential(\n",
              "      (0): InvertedResidual(\n",
              "        (conv_pw): Conv2d(16, 96, kernel_size=(1, 1), stride=(1, 1), bias=False)\n",
              "        (bn1): BatchNormAct2d(\n",
              "          96, eps=1e-05, momentum=0.1, affine=True, track_running_stats=True\n",
              "          (drop): Identity()\n",
              "          (act): SiLU(inplace=True)\n",
              "        )\n",
              "        (conv_dw): Conv2d(96, 96, kernel_size=(3, 3), stride=(2, 2), padding=(1, 1), groups=96, bias=False)\n",
              "        (bn2): BatchNormAct2d(\n",
              "          96, eps=1e-05, momentum=0.1, affine=True, track_running_stats=True\n",
              "          (drop): Identity()\n",
              "          (act): SiLU(inplace=True)\n",
              "        )\n",
              "        (aa): Identity()\n",
              "        (se): SqueezeExcite(\n",
              "          (conv_reduce): Conv2d(96, 4, kernel_size=(1, 1), stride=(1, 1))\n",
              "          (act1): SiLU(inplace=True)\n",
              "          (conv_expand): Conv2d(4, 96, kernel_size=(1, 1), stride=(1, 1))\n",
              "          (gate): Sigmoid()\n",
              "        )\n",
              "        (conv_pwl): Conv2d(96, 24, kernel_size=(1, 1), stride=(1, 1), bias=False)\n",
              "        (bn3): BatchNormAct2d(\n",
              "          24, eps=1e-05, momentum=0.1, affine=True, track_running_stats=True\n",
              "          (drop): Identity()\n",
              "          (act): Identity()\n",
              "        )\n",
              "        (drop_path): Identity()\n",
              "      )\n",
              "      (1): InvertedResidual(\n",
              "        (conv_pw): Conv2d(24, 144, kernel_size=(1, 1), stride=(1, 1), bias=False)\n",
              "        (bn1): BatchNormAct2d(\n",
              "          144, eps=1e-05, momentum=0.1, affine=True, track_running_stats=True\n",
              "          (drop): Identity()\n",
              "          (act): SiLU(inplace=True)\n",
              "        )\n",
              "        (conv_dw): Conv2d(144, 144, kernel_size=(3, 3), stride=(1, 1), padding=(1, 1), groups=144, bias=False)\n",
              "        (bn2): BatchNormAct2d(\n",
              "          144, eps=1e-05, momentum=0.1, affine=True, track_running_stats=True\n",
              "          (drop): Identity()\n",
              "          (act): SiLU(inplace=True)\n",
              "        )\n",
              "        (aa): Identity()\n",
              "        (se): SqueezeExcite(\n",
              "          (conv_reduce): Conv2d(144, 6, kernel_size=(1, 1), stride=(1, 1))\n",
              "          (act1): SiLU(inplace=True)\n",
              "          (conv_expand): Conv2d(6, 144, kernel_size=(1, 1), stride=(1, 1))\n",
              "          (gate): Sigmoid()\n",
              "        )\n",
              "        (conv_pwl): Conv2d(144, 24, kernel_size=(1, 1), stride=(1, 1), bias=False)\n",
              "        (bn3): BatchNormAct2d(\n",
              "          24, eps=1e-05, momentum=0.1, affine=True, track_running_stats=True\n",
              "          (drop): Identity()\n",
              "          (act): Identity()\n",
              "        )\n",
              "        (drop_path): Identity()\n",
              "      )\n",
              "    )\n",
              "    (2): Sequential(\n",
              "      (0): InvertedResidual(\n",
              "        (conv_pw): Conv2d(24, 144, kernel_size=(1, 1), stride=(1, 1), bias=False)\n",
              "        (bn1): BatchNormAct2d(\n",
              "          144, eps=1e-05, momentum=0.1, affine=True, track_running_stats=True\n",
              "          (drop): Identity()\n",
              "          (act): SiLU(inplace=True)\n",
              "        )\n",
              "        (conv_dw): Conv2d(144, 144, kernel_size=(5, 5), stride=(2, 2), padding=(2, 2), groups=144, bias=False)\n",
              "        (bn2): BatchNormAct2d(\n",
              "          144, eps=1e-05, momentum=0.1, affine=True, track_running_stats=True\n",
              "          (drop): Identity()\n",
              "          (act): SiLU(inplace=True)\n",
              "        )\n",
              "        (aa): Identity()\n",
              "        (se): SqueezeExcite(\n",
              "          (conv_reduce): Conv2d(144, 6, kernel_size=(1, 1), stride=(1, 1))\n",
              "          (act1): SiLU(inplace=True)\n",
              "          (conv_expand): Conv2d(6, 144, kernel_size=(1, 1), stride=(1, 1))\n",
              "          (gate): Sigmoid()\n",
              "        )\n",
              "        (conv_pwl): Conv2d(144, 40, kernel_size=(1, 1), stride=(1, 1), bias=False)\n",
              "        (bn3): BatchNormAct2d(\n",
              "          40, eps=1e-05, momentum=0.1, affine=True, track_running_stats=True\n",
              "          (drop): Identity()\n",
              "          (act): Identity()\n",
              "        )\n",
              "        (drop_path): Identity()\n",
              "      )\n",
              "      (1): InvertedResidual(\n",
              "        (conv_pw): Conv2d(40, 240, kernel_size=(1, 1), stride=(1, 1), bias=False)\n",
              "        (bn1): BatchNormAct2d(\n",
              "          240, eps=1e-05, momentum=0.1, affine=True, track_running_stats=True\n",
              "          (drop): Identity()\n",
              "          (act): SiLU(inplace=True)\n",
              "        )\n",
              "        (conv_dw): Conv2d(240, 240, kernel_size=(5, 5), stride=(1, 1), padding=(2, 2), groups=240, bias=False)\n",
              "        (bn2): BatchNormAct2d(\n",
              "          240, eps=1e-05, momentum=0.1, affine=True, track_running_stats=True\n",
              "          (drop): Identity()\n",
              "          (act): SiLU(inplace=True)\n",
              "        )\n",
              "        (aa): Identity()\n",
              "        (se): SqueezeExcite(\n",
              "          (conv_reduce): Conv2d(240, 10, kernel_size=(1, 1), stride=(1, 1))\n",
              "          (act1): SiLU(inplace=True)\n",
              "          (conv_expand): Conv2d(10, 240, kernel_size=(1, 1), stride=(1, 1))\n",
              "          (gate): Sigmoid()\n",
              "        )\n",
              "        (conv_pwl): Conv2d(240, 40, kernel_size=(1, 1), stride=(1, 1), bias=False)\n",
              "        (bn3): BatchNormAct2d(\n",
              "          40, eps=1e-05, momentum=0.1, affine=True, track_running_stats=True\n",
              "          (drop): Identity()\n",
              "          (act): Identity()\n",
              "        )\n",
              "        (drop_path): Identity()\n",
              "      )\n",
              "    )\n",
              "    (3): Sequential(\n",
              "      (0): InvertedResidual(\n",
              "        (conv_pw): Conv2d(40, 240, kernel_size=(1, 1), stride=(1, 1), bias=False)\n",
              "        (bn1): BatchNormAct2d(\n",
              "          240, eps=1e-05, momentum=0.1, affine=True, track_running_stats=True\n",
              "          (drop): Identity()\n",
              "          (act): SiLU(inplace=True)\n",
              "        )\n",
              "        (conv_dw): Conv2d(240, 240, kernel_size=(3, 3), stride=(2, 2), padding=(1, 1), groups=240, bias=False)\n",
              "        (bn2): BatchNormAct2d(\n",
              "          240, eps=1e-05, momentum=0.1, affine=True, track_running_stats=True\n",
              "          (drop): Identity()\n",
              "          (act): SiLU(inplace=True)\n",
              "        )\n",
              "        (aa): Identity()\n",
              "        (se): SqueezeExcite(\n",
              "          (conv_reduce): Conv2d(240, 10, kernel_size=(1, 1), stride=(1, 1))\n",
              "          (act1): SiLU(inplace=True)\n",
              "          (conv_expand): Conv2d(10, 240, kernel_size=(1, 1), stride=(1, 1))\n",
              "          (gate): Sigmoid()\n",
              "        )\n",
              "        (conv_pwl): Conv2d(240, 80, kernel_size=(1, 1), stride=(1, 1), bias=False)\n",
              "        (bn3): BatchNormAct2d(\n",
              "          80, eps=1e-05, momentum=0.1, affine=True, track_running_stats=True\n",
              "          (drop): Identity()\n",
              "          (act): Identity()\n",
              "        )\n",
              "        (drop_path): Identity()\n",
              "      )\n",
              "      (1): InvertedResidual(\n",
              "        (conv_pw): Conv2d(80, 480, kernel_size=(1, 1), stride=(1, 1), bias=False)\n",
              "        (bn1): BatchNormAct2d(\n",
              "          480, eps=1e-05, momentum=0.1, affine=True, track_running_stats=True\n",
              "          (drop): Identity()\n",
              "          (act): SiLU(inplace=True)\n",
              "        )\n",
              "        (conv_dw): Conv2d(480, 480, kernel_size=(3, 3), stride=(1, 1), padding=(1, 1), groups=480, bias=False)\n",
              "        (bn2): BatchNormAct2d(\n",
              "          480, eps=1e-05, momentum=0.1, affine=True, track_running_stats=True\n",
              "          (drop): Identity()\n",
              "          (act): SiLU(inplace=True)\n",
              "        )\n",
              "        (aa): Identity()\n",
              "        (se): SqueezeExcite(\n",
              "          (conv_reduce): Conv2d(480, 20, kernel_size=(1, 1), stride=(1, 1))\n",
              "          (act1): SiLU(inplace=True)\n",
              "          (conv_expand): Conv2d(20, 480, kernel_size=(1, 1), stride=(1, 1))\n",
              "          (gate): Sigmoid()\n",
              "        )\n",
              "        (conv_pwl): Conv2d(480, 80, kernel_size=(1, 1), stride=(1, 1), bias=False)\n",
              "        (bn3): BatchNormAct2d(\n",
              "          80, eps=1e-05, momentum=0.1, affine=True, track_running_stats=True\n",
              "          (drop): Identity()\n",
              "          (act): Identity()\n",
              "        )\n",
              "        (drop_path): Identity()\n",
              "      )\n",
              "      (2): InvertedResidual(\n",
              "        (conv_pw): Conv2d(80, 480, kernel_size=(1, 1), stride=(1, 1), bias=False)\n",
              "        (bn1): BatchNormAct2d(\n",
              "          480, eps=1e-05, momentum=0.1, affine=True, track_running_stats=True\n",
              "          (drop): Identity()\n",
              "          (act): SiLU(inplace=True)\n",
              "        )\n",
              "        (conv_dw): Conv2d(480, 480, kernel_size=(3, 3), stride=(1, 1), padding=(1, 1), groups=480, bias=False)\n",
              "        (bn2): BatchNormAct2d(\n",
              "          480, eps=1e-05, momentum=0.1, affine=True, track_running_stats=True\n",
              "          (drop): Identity()\n",
              "          (act): SiLU(inplace=True)\n",
              "        )\n",
              "        (aa): Identity()\n",
              "        (se): SqueezeExcite(\n",
              "          (conv_reduce): Conv2d(480, 20, kernel_size=(1, 1), stride=(1, 1))\n",
              "          (act1): SiLU(inplace=True)\n",
              "          (conv_expand): Conv2d(20, 480, kernel_size=(1, 1), stride=(1, 1))\n",
              "          (gate): Sigmoid()\n",
              "        )\n",
              "        (conv_pwl): Conv2d(480, 80, kernel_size=(1, 1), stride=(1, 1), bias=False)\n",
              "        (bn3): BatchNormAct2d(\n",
              "          80, eps=1e-05, momentum=0.1, affine=True, track_running_stats=True\n",
              "          (drop): Identity()\n",
              "          (act): Identity()\n",
              "        )\n",
              "        (drop_path): Identity()\n",
              "      )\n",
              "    )\n",
              "    (4): Sequential(\n",
              "      (0): InvertedResidual(\n",
              "        (conv_pw): Conv2d(80, 480, kernel_size=(1, 1), stride=(1, 1), bias=False)\n",
              "        (bn1): BatchNormAct2d(\n",
              "          480, eps=1e-05, momentum=0.1, affine=True, track_running_stats=True\n",
              "          (drop): Identity()\n",
              "          (act): SiLU(inplace=True)\n",
              "        )\n",
              "        (conv_dw): Conv2d(480, 480, kernel_size=(5, 5), stride=(1, 1), padding=(2, 2), groups=480, bias=False)\n",
              "        (bn2): BatchNormAct2d(\n",
              "          480, eps=1e-05, momentum=0.1, affine=True, track_running_stats=True\n",
              "          (drop): Identity()\n",
              "          (act): SiLU(inplace=True)\n",
              "        )\n",
              "        (aa): Identity()\n",
              "        (se): SqueezeExcite(\n",
              "          (conv_reduce): Conv2d(480, 20, kernel_size=(1, 1), stride=(1, 1))\n",
              "          (act1): SiLU(inplace=True)\n",
              "          (conv_expand): Conv2d(20, 480, kernel_size=(1, 1), stride=(1, 1))\n",
              "          (gate): Sigmoid()\n",
              "        )\n",
              "        (conv_pwl): Conv2d(480, 112, kernel_size=(1, 1), stride=(1, 1), bias=False)\n",
              "        (bn3): BatchNormAct2d(\n",
              "          112, eps=1e-05, momentum=0.1, affine=True, track_running_stats=True\n",
              "          (drop): Identity()\n",
              "          (act): Identity()\n",
              "        )\n",
              "        (drop_path): Identity()\n",
              "      )\n",
              "      (1): InvertedResidual(\n",
              "        (conv_pw): Conv2d(112, 672, kernel_size=(1, 1), stride=(1, 1), bias=False)\n",
              "        (bn1): BatchNormAct2d(\n",
              "          672, eps=1e-05, momentum=0.1, affine=True, track_running_stats=True\n",
              "          (drop): Identity()\n",
              "          (act): SiLU(inplace=True)\n",
              "        )\n",
              "        (conv_dw): Conv2d(672, 672, kernel_size=(5, 5), stride=(1, 1), padding=(2, 2), groups=672, bias=False)\n",
              "        (bn2): BatchNormAct2d(\n",
              "          672, eps=1e-05, momentum=0.1, affine=True, track_running_stats=True\n",
              "          (drop): Identity()\n",
              "          (act): SiLU(inplace=True)\n",
              "        )\n",
              "        (aa): Identity()\n",
              "        (se): SqueezeExcite(\n",
              "          (conv_reduce): Conv2d(672, 28, kernel_size=(1, 1), stride=(1, 1))\n",
              "          (act1): SiLU(inplace=True)\n",
              "          (conv_expand): Conv2d(28, 672, kernel_size=(1, 1), stride=(1, 1))\n",
              "          (gate): Sigmoid()\n",
              "        )\n",
              "        (conv_pwl): Conv2d(672, 112, kernel_size=(1, 1), stride=(1, 1), bias=False)\n",
              "        (bn3): BatchNormAct2d(\n",
              "          112, eps=1e-05, momentum=0.1, affine=True, track_running_stats=True\n",
              "          (drop): Identity()\n",
              "          (act): Identity()\n",
              "        )\n",
              "        (drop_path): Identity()\n",
              "      )\n",
              "      (2): InvertedResidual(\n",
              "        (conv_pw): Conv2d(112, 672, kernel_size=(1, 1), stride=(1, 1), bias=False)\n",
              "        (bn1): BatchNormAct2d(\n",
              "          672, eps=1e-05, momentum=0.1, affine=True, track_running_stats=True\n",
              "          (drop): Identity()\n",
              "          (act): SiLU(inplace=True)\n",
              "        )\n",
              "        (conv_dw): Conv2d(672, 672, kernel_size=(5, 5), stride=(1, 1), padding=(2, 2), groups=672, bias=False)\n",
              "        (bn2): BatchNormAct2d(\n",
              "          672, eps=1e-05, momentum=0.1, affine=True, track_running_stats=True\n",
              "          (drop): Identity()\n",
              "          (act): SiLU(inplace=True)\n",
              "        )\n",
              "        (aa): Identity()\n",
              "        (se): SqueezeExcite(\n",
              "          (conv_reduce): Conv2d(672, 28, kernel_size=(1, 1), stride=(1, 1))\n",
              "          (act1): SiLU(inplace=True)\n",
              "          (conv_expand): Conv2d(28, 672, kernel_size=(1, 1), stride=(1, 1))\n",
              "          (gate): Sigmoid()\n",
              "        )\n",
              "        (conv_pwl): Conv2d(672, 112, kernel_size=(1, 1), stride=(1, 1), bias=False)\n",
              "        (bn3): BatchNormAct2d(\n",
              "          112, eps=1e-05, momentum=0.1, affine=True, track_running_stats=True\n",
              "          (drop): Identity()\n",
              "          (act): Identity()\n",
              "        )\n",
              "        (drop_path): Identity()\n",
              "      )\n",
              "    )\n",
              "    (5): Sequential(\n",
              "      (0): InvertedResidual(\n",
              "        (conv_pw): Conv2d(112, 672, kernel_size=(1, 1), stride=(1, 1), bias=False)\n",
              "        (bn1): BatchNormAct2d(\n",
              "          672, eps=1e-05, momentum=0.1, affine=True, track_running_stats=True\n",
              "          (drop): Identity()\n",
              "          (act): SiLU(inplace=True)\n",
              "        )\n",
              "        (conv_dw): Conv2d(672, 672, kernel_size=(5, 5), stride=(2, 2), padding=(2, 2), groups=672, bias=False)\n",
              "        (bn2): BatchNormAct2d(\n",
              "          672, eps=1e-05, momentum=0.1, affine=True, track_running_stats=True\n",
              "          (drop): Identity()\n",
              "          (act): SiLU(inplace=True)\n",
              "        )\n",
              "        (aa): Identity()\n",
              "        (se): SqueezeExcite(\n",
              "          (conv_reduce): Conv2d(672, 28, kernel_size=(1, 1), stride=(1, 1))\n",
              "          (act1): SiLU(inplace=True)\n",
              "          (conv_expand): Conv2d(28, 672, kernel_size=(1, 1), stride=(1, 1))\n",
              "          (gate): Sigmoid()\n",
              "        )\n",
              "        (conv_pwl): Conv2d(672, 192, kernel_size=(1, 1), stride=(1, 1), bias=False)\n",
              "        (bn3): BatchNormAct2d(\n",
              "          192, eps=1e-05, momentum=0.1, affine=True, track_running_stats=True\n",
              "          (drop): Identity()\n",
              "          (act): Identity()\n",
              "        )\n",
              "        (drop_path): Identity()\n",
              "      )\n",
              "      (1): InvertedResidual(\n",
              "        (conv_pw): Conv2d(192, 1152, kernel_size=(1, 1), stride=(1, 1), bias=False)\n",
              "        (bn1): BatchNormAct2d(\n",
              "          1152, eps=1e-05, momentum=0.1, affine=True, track_running_stats=True\n",
              "          (drop): Identity()\n",
              "          (act): SiLU(inplace=True)\n",
              "        )\n",
              "        (conv_dw): Conv2d(1152, 1152, kernel_size=(5, 5), stride=(1, 1), padding=(2, 2), groups=1152, bias=False)\n",
              "        (bn2): BatchNormAct2d(\n",
              "          1152, eps=1e-05, momentum=0.1, affine=True, track_running_stats=True\n",
              "          (drop): Identity()\n",
              "          (act): SiLU(inplace=True)\n",
              "        )\n",
              "        (aa): Identity()\n",
              "        (se): SqueezeExcite(\n",
              "          (conv_reduce): Conv2d(1152, 48, kernel_size=(1, 1), stride=(1, 1))\n",
              "          (act1): SiLU(inplace=True)\n",
              "          (conv_expand): Conv2d(48, 1152, kernel_size=(1, 1), stride=(1, 1))\n",
              "          (gate): Sigmoid()\n",
              "        )\n",
              "        (conv_pwl): Conv2d(1152, 192, kernel_size=(1, 1), stride=(1, 1), bias=False)\n",
              "        (bn3): BatchNormAct2d(\n",
              "          192, eps=1e-05, momentum=0.1, affine=True, track_running_stats=True\n",
              "          (drop): Identity()\n",
              "          (act): Identity()\n",
              "        )\n",
              "        (drop_path): Identity()\n",
              "      )\n",
              "      (2): InvertedResidual(\n",
              "        (conv_pw): Conv2d(192, 1152, kernel_size=(1, 1), stride=(1, 1), bias=False)\n",
              "        (bn1): BatchNormAct2d(\n",
              "          1152, eps=1e-05, momentum=0.1, affine=True, track_running_stats=True\n",
              "          (drop): Identity()\n",
              "          (act): SiLU(inplace=True)\n",
              "        )\n",
              "        (conv_dw): Conv2d(1152, 1152, kernel_size=(5, 5), stride=(1, 1), padding=(2, 2), groups=1152, bias=False)\n",
              "        (bn2): BatchNormAct2d(\n",
              "          1152, eps=1e-05, momentum=0.1, affine=True, track_running_stats=True\n",
              "          (drop): Identity()\n",
              "          (act): SiLU(inplace=True)\n",
              "        )\n",
              "        (aa): Identity()\n",
              "        (se): SqueezeExcite(\n",
              "          (conv_reduce): Conv2d(1152, 48, kernel_size=(1, 1), stride=(1, 1))\n",
              "          (act1): SiLU(inplace=True)\n",
              "          (conv_expand): Conv2d(48, 1152, kernel_size=(1, 1), stride=(1, 1))\n",
              "          (gate): Sigmoid()\n",
              "        )\n",
              "        (conv_pwl): Conv2d(1152, 192, kernel_size=(1, 1), stride=(1, 1), bias=False)\n",
              "        (bn3): BatchNormAct2d(\n",
              "          192, eps=1e-05, momentum=0.1, affine=True, track_running_stats=True\n",
              "          (drop): Identity()\n",
              "          (act): Identity()\n",
              "        )\n",
              "        (drop_path): Identity()\n",
              "      )\n",
              "      (3): InvertedResidual(\n",
              "        (conv_pw): Conv2d(192, 1152, kernel_size=(1, 1), stride=(1, 1), bias=False)\n",
              "        (bn1): BatchNormAct2d(\n",
              "          1152, eps=1e-05, momentum=0.1, affine=True, track_running_stats=True\n",
              "          (drop): Identity()\n",
              "          (act): SiLU(inplace=True)\n",
              "        )\n",
              "        (conv_dw): Conv2d(1152, 1152, kernel_size=(5, 5), stride=(1, 1), padding=(2, 2), groups=1152, bias=False)\n",
              "        (bn2): BatchNormAct2d(\n",
              "          1152, eps=1e-05, momentum=0.1, affine=True, track_running_stats=True\n",
              "          (drop): Identity()\n",
              "          (act): SiLU(inplace=True)\n",
              "        )\n",
              "        (aa): Identity()\n",
              "        (se): SqueezeExcite(\n",
              "          (conv_reduce): Conv2d(1152, 48, kernel_size=(1, 1), stride=(1, 1))\n",
              "          (act1): SiLU(inplace=True)\n",
              "          (conv_expand): Conv2d(48, 1152, kernel_size=(1, 1), stride=(1, 1))\n",
              "          (gate): Sigmoid()\n",
              "        )\n",
              "        (conv_pwl): Conv2d(1152, 192, kernel_size=(1, 1), stride=(1, 1), bias=False)\n",
              "        (bn3): BatchNormAct2d(\n",
              "          192, eps=1e-05, momentum=0.1, affine=True, track_running_stats=True\n",
              "          (drop): Identity()\n",
              "          (act): Identity()\n",
              "        )\n",
              "        (drop_path): Identity()\n",
              "      )\n",
              "    )\n",
              "    (6): Sequential(\n",
              "      (0): InvertedResidual(\n",
              "        (conv_pw): Conv2d(192, 1152, kernel_size=(1, 1), stride=(1, 1), bias=False)\n",
              "        (bn1): BatchNormAct2d(\n",
              "          1152, eps=1e-05, momentum=0.1, affine=True, track_running_stats=True\n",
              "          (drop): Identity()\n",
              "          (act): SiLU(inplace=True)\n",
              "        )\n",
              "        (conv_dw): Conv2d(1152, 1152, kernel_size=(3, 3), stride=(1, 1), padding=(1, 1), groups=1152, bias=False)\n",
              "        (bn2): BatchNormAct2d(\n",
              "          1152, eps=1e-05, momentum=0.1, affine=True, track_running_stats=True\n",
              "          (drop): Identity()\n",
              "          (act): SiLU(inplace=True)\n",
              "        )\n",
              "        (aa): Identity()\n",
              "        (se): SqueezeExcite(\n",
              "          (conv_reduce): Conv2d(1152, 48, kernel_size=(1, 1), stride=(1, 1))\n",
              "          (act1): SiLU(inplace=True)\n",
              "          (conv_expand): Conv2d(48, 1152, kernel_size=(1, 1), stride=(1, 1))\n",
              "          (gate): Sigmoid()\n",
              "        )\n",
              "        (conv_pwl): Conv2d(1152, 320, kernel_size=(1, 1), stride=(1, 1), bias=False)\n",
              "        (bn3): BatchNormAct2d(\n",
              "          320, eps=1e-05, momentum=0.1, affine=True, track_running_stats=True\n",
              "          (drop): Identity()\n",
              "          (act): Identity()\n",
              "        )\n",
              "        (drop_path): Identity()\n",
              "      )\n",
              "    )\n",
              "  )\n",
              "  (conv_head): Conv2d(320, 1280, kernel_size=(1, 1), stride=(1, 1), bias=False)\n",
              "  (bn2): BatchNormAct2d(\n",
              "    1280, eps=1e-05, momentum=0.1, affine=True, track_running_stats=True\n",
              "    (drop): Identity()\n",
              "    (act): SiLU(inplace=True)\n",
              "  )\n",
              "  (global_pool): SelectAdaptivePool2d(pool_type=avg, flatten=Flatten(start_dim=1, end_dim=-1))\n",
              "  (classifier): Linear(in_features=1280, out_features=28, bias=True)\n",
              ")"
            ]
          },
          "metadata": {},
          "execution_count": 16
        }
      ]
    },
    {
      "cell_type": "markdown",
      "source": [
        "\n",
        "# [6.2] Freeze backbone first (optional warm-up)"
      ],
      "metadata": {
        "id": "AK2KTCeGuSWN"
      }
    },
    {
      "cell_type": "code",
      "source": [
        "for name, p in model.named_parameters():\n",
        "    if \"classifier\" not in name:\n",
        "        p.requires_grad = False\n"
      ],
      "metadata": {
        "id": "t4CLBHiGuO-C"
      },
      "execution_count": 17,
      "outputs": []
    },
    {
      "cell_type": "markdown",
      "source": [
        "[6.3] Loss, optimizer, scheduler"
      ],
      "metadata": {
        "id": "48ISHLf9uXWA"
      }
    },
    {
      "cell_type": "code",
      "source": [
        "criterion = nn.CrossEntropyLoss()\n",
        "optimizer = torch.optim.AdamW(filter(lambda p: p.requires_grad, model.parameters()), lr=3e-3, weight_decay=1e-4)\n",
        "scheduler = torch.optim.lr_scheduler.CosineAnnealingLR(optimizer, T_max=10)\n",
        "scaler = torch.cuda.amp.GradScaler(enabled=torch.cuda.is_available())"
      ],
      "metadata": {
        "colab": {
          "base_uri": "https://localhost:8080/"
        },
        "id": "rRCwVTOvuRV3",
        "outputId": "39653ee9-c1f4-48d9-b25b-08a9cb2f2b89"
      },
      "execution_count": 18,
      "outputs": [
        {
          "output_type": "stream",
          "name": "stderr",
          "text": [
            "/tmp/ipython-input-1530944810.py:4: FutureWarning: `torch.cuda.amp.GradScaler(args...)` is deprecated. Please use `torch.amp.GradScaler('cuda', args...)` instead.\n",
            "  scaler = torch.cuda.amp.GradScaler(enabled=torch.cuda.is_available())\n"
          ]
        }
      ]
    },
    {
      "cell_type": "markdown",
      "source": [
        "[7] Train (warm-up → fine-tune)"
      ],
      "metadata": {
        "id": "WZbM7Omnua1r"
      }
    },
    {
      "cell_type": "code",
      "source": [
        "# [7.1] Training loop helpers\n",
        "from tqdm import tqdm\n",
        "def run_epoch(loader, train_mode=True):\n",
        "    model.train(train_mode)\n",
        "    total, correct, loss_sum = 0, 0, 0.0\n",
        "    for x,y in tqdm(loader, leave=False):\n",
        "        x,y = x.to(device), y.to(device)\n",
        "        with torch.set_grad_enabled(train_mode):\n",
        "            with torch.cuda.amp.autocast(enabled=torch.cuda.is_available()):\n",
        "                logits = model(x)\n",
        "                loss = criterion(logits, y)\n",
        "        if train_mode:\n",
        "            optimizer.zero_grad()\n",
        "            scaler.scale(loss).backward()\n",
        "            scaler.step(optimizer)\n",
        "            scaler.update()\n",
        "        preds = logits.argmax(1)\n",
        "        correct += (preds==y).sum().item()\n",
        "        total += y.size(0)\n",
        "        loss_sum += loss.item()*y.size(0)\n",
        "    return loss_sum/total, correct/total\n",
        "\n",
        "best_acc, patience, bad = 0.0, 5, 0\n",
        "history = {\"train_loss\":[], \"val_loss\":[], \"train_acc\":[], \"val_acc\":[]}\n"
      ],
      "metadata": {
        "id": "9ZBSYS1JufSl"
      },
      "execution_count": 19,
      "outputs": []
    },
    {
      "cell_type": "code",
      "source": [
        "# [7.2] Warm-up (train classifier only)\n",
        "EPOCHS_WARM = 3\n",
        "for epoch in range(1, EPOCHS_WARM+1):\n",
        "    tr_loss, tr_acc = run_epoch(train_loader, True)\n",
        "    va_loss, va_acc = run_epoch(val_loader, False)\n",
        "    scheduler.step()\n",
        "    history[\"train_loss\"].append(tr_loss); history[\"val_loss\"].append(va_loss)\n",
        "    history[\"train_acc\"].append(tr_acc);   history[\"val_acc\"].append(va_acc)\n",
        "    print(f\"[WarmUp {epoch}] train_acc={tr_acc:.3f} val_acc={va_acc:.3f}\")"
      ],
      "metadata": {
        "colab": {
          "base_uri": "https://localhost:8080/"
        },
        "id": "Q9OCRO5uuiUm",
        "outputId": "ab841a96-cd56-4960-e12e-57b7ce4591e1"
      },
      "execution_count": 20,
      "outputs": [
        {
          "output_type": "stream",
          "name": "stderr",
          "text": [
            "\r  0%|          | 0/33 [00:00<?, ?it/s]/usr/local/lib/python3.12/dist-packages/torch/utils/data/dataloader.py:666: UserWarning: 'pin_memory' argument is set as true but no accelerator is found, then device pinned memory won't be used.\n",
            "  warnings.warn(warn_msg)\n",
            "/tmp/ipython-input-3824631537.py:9: FutureWarning: `torch.cuda.amp.autocast(args...)` is deprecated. Please use `torch.amp.autocast('cuda', args...)` instead.\n",
            "  with torch.cuda.amp.autocast(enabled=torch.cuda.is_available()):\n"
          ]
        },
        {
          "output_type": "stream",
          "name": "stdout",
          "text": [
            "[WarmUp 1] train_acc=0.205 val_acc=0.300\n"
          ]
        },
        {
          "output_type": "stream",
          "name": "stderr",
          "text": []
        },
        {
          "output_type": "stream",
          "name": "stdout",
          "text": [
            "[WarmUp 2] train_acc=0.445 val_acc=0.381\n"
          ]
        },
        {
          "output_type": "stream",
          "name": "stderr",
          "text": [
            "                                             "
          ]
        },
        {
          "output_type": "stream",
          "name": "stdout",
          "text": [
            "[WarmUp 3] train_acc=0.562 val_acc=0.397\n"
          ]
        },
        {
          "output_type": "stream",
          "name": "stderr",
          "text": [
            "\r"
          ]
        }
      ]
    },
    {
      "cell_type": "code",
      "source": [
        "# [7.3] Unfreeze top layers for fine-tuning\n",
        "for name, p in model.named_parameters():\n",
        "    p.requires_grad = True\n",
        "optimizer = torch.optim.AdamW(model.parameters(), lr=1e-4, weight_decay=1e-4)\n",
        "scheduler = torch.optim.lr_scheduler.ReduceLROnPlateau(optimizer, factor=0.5, patience=1)\n",
        "\n",
        "EPOCHS_FINE = 10\n",
        "best_state = None\n",
        "for epoch in range(1, EPOCHS_FINE+1):\n",
        "    tr_loss, tr_acc = run_epoch(train_loader, True)\n",
        "    va_loss, va_acc = run_epoch(val_loader, False)\n",
        "    scheduler.step(va_loss)\n",
        "    history[\"train_loss\"].append(tr_loss); history[\"val_loss\"].append(va_loss)\n",
        "    history[\"train_acc\"].append(tr_acc);   history[\"val_acc\"].append(va_acc)\n",
        "    print(f\"[Fine {epoch}] train_acc={tr_acc:.3f} val_acc={va_acc:.3f}\")\n",
        "\n",
        "    if va_acc > best_acc:\n",
        "        best_acc, bad, best_state = va_acc, 0, model.state_dict()\n",
        "    else:\n",
        "        bad += 1\n",
        "        if bad >= patience:\n",
        "            print(\"Early stopping.\")\n",
        "            break"
      ],
      "metadata": {
        "colab": {
          "base_uri": "https://localhost:8080/"
        },
        "id": "xcHD8e53ummT",
        "outputId": "d9be834c-f7b6-4572-e6d1-0c8b0460280e"
      },
      "execution_count": null,
      "outputs": [
        {
          "output_type": "stream",
          "name": "stderr",
          "text": [
            "\r  0%|          | 0/33 [00:00<?, ?it/s]/tmp/ipython-input-3824631537.py:9: FutureWarning: `torch.cuda.amp.autocast(args...)` is deprecated. Please use `torch.amp.autocast('cuda', args...)` instead.\n",
            "  with torch.cuda.amp.autocast(enabled=torch.cuda.is_available()):\n"
          ]
        },
        {
          "output_type": "stream",
          "name": "stdout",
          "text": [
            "[Fine 1] train_acc=0.682 val_acc=0.525\n"
          ]
        },
        {
          "output_type": "stream",
          "name": "stderr",
          "text": [
            " 67%|██████▋   | 22/33 [06:27<03:01, 16.48s/it]"
          ]
        }
      ]
    },
    {
      "cell_type": "code",
      "source": [
        "# [7.1] Training loop helpers\n",
        "from tqdm import tqdm\n",
        "import torch\n",
        "import torch.nn as nn\n",
        "import os\n",
        "import json\n",
        "from torch.utils.data import Dataset, DataLoader, WeightedRandomSampler\n",
        "import cv2\n",
        "import albumentations as A\n",
        "from albumentations.pytorch import ToTensorV2\n",
        "from collections import Counter\n",
        "import timm # Import timm to define the model later\n",
        "\n",
        "# Define device\n",
        "device = torch.device(\"cuda\" if torch.cuda.is_available() else \"cpu\")\n",
        "\n",
        "# Assuming SPLIT_DIR is defined from the data splitting step\n",
        "SPLIT_DIR = \"/content/plant_split\"\n",
        "\n",
        "# [5.1] Transforms & datasets\n",
        "IMG_SIZE = 224\n",
        "MEAN = (0.485,0.456,0.406)\n",
        "STD  = (0.229,0.224,0.225)\n",
        "\n",
        "train_tfms = A.Compose([\n",
        "    A.RandomResizedCrop(IMG_SIZE, IMG_SIZE, scale=(0.7, 1.0)),\n",
        "    A.HorizontalFlip(p=0.5),\n",
        "    A.VerticalFlip(p=0.2),\n",
        "    A.RandomBrightnessContrast(p=0.2),\n",
        "    A.ShiftScaleRotate(shift_limit=0.05, scale_limit=0.1, rotate_limit=15, p=0.5),\n",
        "    A.CoarseDropout(max_holes=1, max_height=IMG_SIZE//10, max_width=IMG_SIZE//10, p=0.2),\n",
        "    A.Normalize(mean=MEAN, std=STD),\n",
        "    ToTensorV2()\n",
        "])\n",
        "\n",
        "val_tfms = A.Compose([\n",
        "    A.Resize(IMG_SIZE, IMG_SIZE),\n",
        "    A.Normalize(mean=MEAN, std=STD),\n",
        "    ToTensorV2()\n",
        "])\n",
        "\n",
        "class ImageFolderA(Dataset):\n",
        "    def __init__(self, root, tfm):\n",
        "        self.items, self.labels, self.classes = [], [], sorted(os.listdir(root))\n",
        "        self.class_to_idx = {c:i for i,c in enumerate(self.classes)}\n",
        "        for c in self.classes:\n",
        "            cdir = os.path.join(root, c)\n",
        "            for f in os.listdir(cdir):\n",
        "                self.items.append(os.path.join(cdir, f))\n",
        "                self.labels.append(self.class_to_idx[c])\n",
        "        self.tfm = tfm\n",
        "    def __len__(self): return len(self.items)\n",
        "    def __getitem__(self, i):\n",
        "        path, y = self.items[i], self.labels[i]\n",
        "        im = cv2.cvtColor(cv2.imread(path), cv2.COLOR_BGR2RGB)\n",
        "        im = self.tfm(image=im)[\"image\"]\n",
        "        return im, y\n",
        "\n",
        "train_ds = ImageFolderA(os.path.join(SPLIT_DIR, \"train\"), train_tfms)\n",
        "val_ds   = ImageFolderA(os.path.join(SPLIT_DIR, \"val\"),   val_tfms)\n",
        "\n",
        "# [5.2] Handle class imbalance with a WeightedRandomSampler\n",
        "class_counts = Counter(train_ds.labels)\n",
        "num_samples = len(train_ds)\n",
        "weights = [1.0 / class_counts[y] for y in train_ds.labels]\n",
        "sampler = WeightedRandomSampler(weights, num_samples=num_samples, replacement=True)\n",
        "\n",
        "BATCH = 64\n",
        "train_loader = DataLoader(train_ds, batch_size=BATCH, sampler=sampler, num_workers=2, pin_memory=True)\n",
        "val_loader   = DataLoader(val_ds,   batch_size=BATCH, shuffle=False, num_workers=2, pin_memory=True)\n",
        "\n",
        "# [6.1] Model : efficient Net-b0 (build model)\n",
        "classes = train_ds.classes # Define classes\n",
        "model = timm.create_model(\"efficientnet_b0\", pretrained=True, num_classes=len(classes))\n",
        "model.to(device)\n",
        "\n",
        "# [6.2] Freeze backbone first (optional warm-up)\n",
        "for name, p in model.named_parameters():\n",
        "    if \"classifier\" not in name:\n",
        "        p.requires_grad = False\n",
        "\n",
        "# [6.3] Loss, optimizer, scheduler\n",
        "criterion = nn.CrossEntropyLoss()\n",
        "optimizer = torch.optim.AdamW(filter(lambda p: p.requires_grad, model.parameters()), lr=3e-3, weight_decay=1e-4)\n",
        "scheduler = torch.optim.lr_scheduler.CosineAnnealingLR(optimizer, T_max=10)\n",
        "scaler = torch.cuda.amp.GradScaler(enabled=torch.cuda.is_available())\n",
        "\n",
        "def run_epoch(loader, train_mode=True):\n",
        "    model.train(train_mode)\n",
        "    total, correct, loss_sum = 0, 0, 0.0\n",
        "    for x,y in tqdm(loader, leave=False):\n",
        "        x,y = x.to(device), y.to(device)\n",
        "        with torch.set_grad_enabled(train_mode):\n",
        "            with torch.cuda.amp.autocast(enabled=torch.cuda.is_available()):\n",
        "                logits = model(x)\n",
        "                loss = criterion(logits, y)\n",
        "        if train_mode:\n",
        "            optimizer.zero_grad()\n",
        "            scaler.scale(loss).backward()\n",
        "            scaler.step(optimizer)\n",
        "            scaler.update()\n",
        "        preds = logits.argmax(1)\n",
        "        correct += (preds==y).sum().item()\n",
        "        total += y.size(0)\n",
        "        loss_sum += loss.item()*y.size(0)\n",
        "    return loss_sum/total, correct/total\n",
        "\n",
        "best_acc, patience, bad = 0.0, 5, 0\n",
        "history = {\"train_loss\":[], \"val_loss\":[], \"train_acc\":[], \"val_acc\":[]}\n",
        "\n",
        "# [7.2] Warm-up (train classifier only)\n",
        "EPOCHS_WARM = 3\n",
        "for epoch in range(1, EPOCHS_WARM+1):\n",
        "    tr_loss, tr_acc = run_epoch(train_loader, True)\n",
        "    va_loss, va_acc = run_epoch(val_loader, False)\n",
        "    scheduler.step()\n",
        "    history[\"train_loss\"].append(tr_loss); history[\"val_loss\"].append(va_loss)\n",
        "    history[\"train_acc\"].append(tr_acc);   history[\"val_acc\"].append(va_acc)\n",
        "    print(f\"[WarmUp {epoch}] train_acc={tr_acc:.3f} val_acc={va_acc:.3f}\")\n",
        "\n",
        "# [7.3] Unfreeze top layers for fine-tuning\n",
        "for name, p in model.named_parameters():\n",
        "    p.requires_grad = True\n",
        "optimizer = torch.optim.AdamW(model.parameters(), lr=1e-4, weight_decay=1e-4)\n",
        "scheduler = torch.optim.lr_scheduler.ReduceLROnPlateau(optimizer, factor=0.5, patience=1)\n",
        "\n",
        "EPOCHS_FINE = 10\n",
        "best_state = None\n",
        "for epoch in range(1, EPOCHS_FINE+1):\n",
        "    tr_loss, tr_acc = run_epoch(train_loader, True)\n",
        "    va_loss, va_acc = run_epoch(val_loader, False)\n",
        "    scheduler.step(va_loss)\n",
        "    history[\"train_loss\"].append(tr_loss); history[\"val_loss\"].append(va_loss)\n",
        "    history[\"train_acc\"].append(tr_acc);   history[\"val_acc\"].append(va_acc)\n",
        "    print(f\"[Fine {epoch}] train_acc={tr_acc:.3f} val_acc={va_acc:.3f}\")\n",
        "\n",
        "    if va_acc > best_acc:\n",
        "        best_acc, bad, best_state = va_acc, 0, model.state_dict()\n",
        "    else:\n",
        "        bad += 1\n",
        "        if bad >= patience:\n",
        "            print(\"Early stopping.\")\n",
        "            break\n",
        "\n",
        "# [7.4] Restore best\n",
        "if best_state is not None:\n",
        "    model.load_state_dict(best_state)\n",
        "\n",
        "# Save artifacts\n",
        "os.makedirs(\"/content/artifacts\", exist_ok=True)\n",
        "torch.save({\"state_dict\": model.state_dict(), \"classes\": classes}, \"/content/artifacts/efficientnet_b0_best.pt\")\n",
        "with open(\"/content/artifacts/classes.json\",\"w\") as f: json.dump(classes, f, indent=2)"
      ],
      "metadata": {
        "colab": {
          "base_uri": "https://localhost:8080/"
        },
        "id": "1r_F0WVlCYmD",
        "outputId": "22241f8c-dac1-419e-a525-9d030ea79522"
      },
      "execution_count": null,
      "outputs": [
        {
          "output_type": "stream",
          "name": "stderr",
          "text": [
            "/tmp/ipython-input-3959963015.py:86: FutureWarning: `torch.cuda.amp.GradScaler(args...)` is deprecated. Please use `torch.amp.GradScaler('cuda', args...)` instead.\n",
            "  scaler = torch.cuda.amp.GradScaler(enabled=torch.cuda.is_available())\n",
            "  0%|          | 0/33 [00:00<?, ?it/s]/usr/local/lib/python3.12/dist-packages/torch/utils/data/dataloader.py:666: UserWarning: 'pin_memory' argument is set as true but no accelerator is found, then device pinned memory won't be used.\n",
            "  warnings.warn(warn_msg)\n",
            "/tmp/ipython-input-3959963015.py:94: FutureWarning: `torch.cuda.amp.autocast(args...)` is deprecated. Please use `torch.amp.autocast('cuda', args...)` instead.\n",
            "  with torch.cuda.amp.autocast(enabled=torch.cuda.is_available()):\n"
          ]
        },
        {
          "output_type": "stream",
          "name": "stdout",
          "text": [
            "[WarmUp 1] train_acc=0.201 val_acc=0.319\n"
          ]
        },
        {
          "output_type": "stream",
          "name": "stderr",
          "text": []
        },
        {
          "output_type": "stream",
          "name": "stdout",
          "text": [
            "[WarmUp 2] train_acc=0.464 val_acc=0.381\n"
          ]
        },
        {
          "output_type": "stream",
          "name": "stderr",
          "text": []
        },
        {
          "output_type": "stream",
          "name": "stdout",
          "text": [
            "[WarmUp 3] train_acc=0.538 val_acc=0.479\n"
          ]
        },
        {
          "output_type": "stream",
          "name": "stderr",
          "text": [
            "\r  0%|          | 0/33 [00:00<?, ?it/s]"
          ]
        }
      ]
    },
    {
      "cell_type": "markdown",
      "source": [
        "Train (warm-up → fine-tune)"
      ],
      "metadata": {
        "id": "Q5C5Pj-3CDjd"
      }
    },
    {
      "cell_type": "code",
      "source": [
        "# [8.1] Metrics and confusion matrix\n",
        "from sklearn.metrics import classification_report, confusion_matrix\n",
        "import itertools\n",
        "import os # Import os module\n",
        "import numpy as np # Import numpy\n",
        "import timm, torch.nn as nn, torch # Import necessary modules for model\n",
        "from tqdm import tqdm # Import tqdm\n",
        "import matplotlib.pyplot as plt # Import matplotlib\n",
        "\n",
        "# Redefine test_loader from the previous cell\n",
        "# [5.1] Transforms & datasets\n",
        "import albumentations as A\n",
        "from albumentations.pytorch import ToTensorV2\n",
        "from torch.utils.data import Dataset, DataLoader, WeightedRandomSampler\n",
        "import cv2, math\n",
        "\n",
        "IMG_SIZE = 224\n",
        "MEAN = (0.485,0.456,0.406)\n",
        "STD  = (0.229,0.224,0.225)\n",
        "\n",
        "val_tfms = A.Compose([\n",
        "    A.Resize(IMG_SIZE, IMG_SIZE),\n",
        "    A.Normalize(mean=MEAN, std=STD),\n",
        "    ToTensorV2()\n",
        "])\n",
        "\n",
        "# Assuming SPLIT_DIR is defined from the data splitting step\n",
        "SPLIT_DIR = \"/content/plant_split\" # Re-defining SPLIT_DIR\n",
        "classes = sorted(os.listdir(os.path.join(SPLIT_DIR, \"train\"))) # Re-defining classes\n",
        "\n",
        "class ImageFolderA(Dataset):\n",
        "    def __init__(self, root, tfm):\n",
        "        self.items, self.labels, self.classes = [], [], sorted(os.listdir(root))\n",
        "        self.class_to_idx = {c:i for i,c in enumerate(self.classes)}\n",
        "        for c in self.classes:\n",
        "            cdir = os.path.join(root, c)\n",
        "            for f in os.listdir(cdir):\n",
        "                self.items.append(os.path.join(cdir, f))\n",
        "                self.labels.append(self.class_to_idx[c])\n",
        "        self.tfm = tfm\n",
        "    def __len__(self): return len(self.items)\n",
        "    def __getitem__(self, i):\n",
        "        path, y = self.items[i], self.labels[i]\n",
        "        im = cv2.cvtColor(cv2.imread(path), cv2.COLOR_BGR2RGB)\n",
        "        im = self.tfm(image=im)[\"image\"]\n",
        "        return im, y\n",
        "\n",
        "test_ds  = ImageFolderA(os.path.join(SPLIT_DIR, \"test\"),  val_tfms)\n",
        "\n",
        "# [5.2] Handle class imbalance with a WeightedRandomSampler\n",
        "from collections import Counter\n",
        "# Assuming BATCH and SPLIT_DIR are defined in previous executed cells\n",
        "BATCH = 64\n",
        "test_loader  = DataLoader(test_ds,  batch_size=BATCH, shuffle=False, num_workers=2, pin_memory=True)\n",
        "\n",
        "# Define device and model\n",
        "device = torch.device(\"cuda\" if torch.cuda.is_available() else \"cpu\")\n",
        "model = timm.create_model(\"efficientnet_b0\", pretrained=True, num_classes=len(classes))\n",
        "model.to(device)\n",
        "\n",
        "\n",
        "def predict_loader(loader):\n",
        "    y_true, y_pred = [], []\n",
        "    model.eval()\n",
        "    with torch.no_grad():\n",
        "        for x,y in tqdm(loader, leave=False):\n",
        "            x = x.to(device)\n",
        "            logits = model(x)\n",
        "            pred = logits.argmax(1).cpu().numpy()\n",
        "            y_pred.extend(pred.tolist())\n",
        "            y_true.extend(y.numpy().tolist())\n",
        "    return np.array(y_true), np.array(y_pred)\n",
        "\n",
        "y_true, y_pred = predict_loader(test_loader)\n",
        "print(classification_report(y_true, y_pred, target_names=classes, digits=3))\n",
        "\n",
        "cm = confusion_matrix(y_true, y_pred)\n",
        "fig = plt.figure(figsize=(8,8))\n",
        "plt.imshow(cm, interpolation='nearest')\n",
        "plt.title(\"Confusion Matrix\")\n",
        "plt.xlabel(\"Predicted\"); plt.ylabel(\"True\")\n",
        "plt.tight_layout()\n",
        "plt.show()"
      ],
      "metadata": {
        "colab": {
          "base_uri": "https://localhost:8080/",
          "height": 1000
        },
        "id": "HfM95Iony73F",
        "outputId": "f7d3c3aa-7e49-4de0-bc2d-cb33dbcf2662"
      },
      "execution_count": 17,
      "outputs": [
        {
          "output_type": "stream",
          "name": "stderr",
          "text": [
            "\r  0%|          | 0/5 [00:00<?, ?it/s]/usr/local/lib/python3.12/dist-packages/torch/utils/data/dataloader.py:666: UserWarning: 'pin_memory' argument is set as true but no accelerator is found, then device pinned memory won't be used.\n",
            "  warnings.warn(warn_msg)\n",
            "/usr/local/lib/python3.12/dist-packages/sklearn/metrics/_classification.py:1531: UndefinedMetricWarning: Precision is ill-defined and being set to 0.0 in labels with no predicted samples. Use `zero_division` parameter to control this behavior.\n",
            "  _warn_prf(average, modifier, f\"{metric.capitalize()} is\", len(result))\n",
            "/usr/local/lib/python3.12/dist-packages/sklearn/metrics/_classification.py:1531: UndefinedMetricWarning: Recall is ill-defined and being set to 0.0 in labels with no true samples. Use `zero_division` parameter to control this behavior.\n",
            "  _warn_prf(average, modifier, f\"{metric.capitalize()} is\", len(result))\n",
            "/usr/local/lib/python3.12/dist-packages/sklearn/metrics/_classification.py:1531: UndefinedMetricWarning: Precision is ill-defined and being set to 0.0 in labels with no predicted samples. Use `zero_division` parameter to control this behavior.\n",
            "  _warn_prf(average, modifier, f\"{metric.capitalize()} is\", len(result))\n",
            "/usr/local/lib/python3.12/dist-packages/sklearn/metrics/_classification.py:1531: UndefinedMetricWarning: Recall is ill-defined and being set to 0.0 in labels with no true samples. Use `zero_division` parameter to control this behavior.\n",
            "  _warn_prf(average, modifier, f\"{metric.capitalize()} is\", len(result))\n",
            "/usr/local/lib/python3.12/dist-packages/sklearn/metrics/_classification.py:1531: UndefinedMetricWarning: Precision is ill-defined and being set to 0.0 in labels with no predicted samples. Use `zero_division` parameter to control this behavior.\n",
            "  _warn_prf(average, modifier, f\"{metric.capitalize()} is\", len(result))\n",
            "/usr/local/lib/python3.12/dist-packages/sklearn/metrics/_classification.py:1531: UndefinedMetricWarning: Recall is ill-defined and being set to 0.0 in labels with no true samples. Use `zero_division` parameter to control this behavior.\n",
            "  _warn_prf(average, modifier, f\"{metric.capitalize()} is\", len(result))\n"
          ]
        },
        {
          "output_type": "stream",
          "name": "stdout",
          "text": [
            "                                      precision    recall  f1-score   support\n",
            "\n",
            "                     Apple Scab Leaf      0.000     0.000     0.000        10\n",
            "                          Apple leaf      0.500     0.200     0.286        10\n",
            "                     Apple rust leaf      0.000     0.000     0.000         9\n",
            "                    Bell_pepper leaf      0.000     0.000     0.000         7\n",
            "               Bell_pepper leaf spot      0.050     0.125     0.071         8\n",
            "                      Blueberry leaf      0.000     0.000     0.000        12\n",
            "                         Cherry leaf      0.000     0.000     0.000         6\n",
            "                 Corn Gray leaf spot      0.000     0.000     0.000         7\n",
            "                    Corn leaf blight      0.113     0.300     0.164        20\n",
            "                      Corn rust leaf      0.000     0.000     0.000        12\n",
            "                          Peach leaf      0.000     0.000     0.000        12\n",
            "            Potato leaf early blight      0.000     0.000     0.000        12\n",
            "             Potato leaf late blight      0.000     0.000     0.000        11\n",
            "                      Raspberry leaf      0.000     0.000     0.000        12\n",
            "                       Soyabean leaf      0.000     0.000     0.000         7\n",
            "          Squash Powdery mildew leaf      0.077     0.077     0.077        13\n",
            "                     Strawberry leaf      0.000     0.000     0.000        10\n",
            "            Tomato Early blight leaf      0.000     0.000     0.000         9\n",
            "           Tomato Septoria leaf spot      0.000     0.000     0.000        16\n",
            "                         Tomato leaf      0.000     0.000     0.000         7\n",
            "          Tomato leaf bacterial spot      0.000     0.000     0.000        11\n",
            "             Tomato leaf late blight      0.133     0.167     0.148        12\n",
            "            Tomato leaf mosaic virus      0.017     0.167     0.031         6\n",
            "            Tomato leaf yellow virus      0.000     0.000     0.000         8\n",
            "                    Tomato mold leaf      0.231     0.300     0.261        10\n",
            "Tomato two spotted spider mites leaf      0.000     0.000     0.000         0\n",
            "                          grape leaf      0.000     0.000     0.000         7\n",
            "                grape leaf black rot      0.000     0.000     0.000         7\n",
            "\n",
            "                            accuracy                          0.059       271\n",
            "                           macro avg      0.040     0.048     0.037       271\n",
            "                        weighted avg      0.047     0.059     0.045       271\n",
            "\n"
          ]
        },
        {
          "output_type": "display_data",
          "data": {
            "text/plain": [
              "<Figure size 800x800 with 1 Axes>"
            ],
            "image/png": "[encoded data removed]"
          },
          "metadata": {}
        }
      ]
    },
    {
      "cell_type": "markdown",
      "source": [
        "[8] Evaluate + visualise"
      ],
      "metadata": {
        "id": "Lk0pldFBCHtW"
      }
    },
    {
      "cell_type": "markdown",
      "source": [
        "Screenshot: Grad-CAM visualization. below"
      ],
      "metadata": {
        "id": "MniKmTOsF3OG"
      }
    },
    {
      "cell_type": "code",
      "source": [
        "# [9.1] Lightweight GradCAM (works with many timm models)\n",
        "!pip -q install grad-cam==1.5.5\n",
        "from pytorch_grad_cam import GradCAM\n",
        "from pytorch_grad_cam.utils.image import show_cam_on_image\n",
        "from pytorch_grad_cam.utils.model_targets import ClassifierOutputTarget\n",
        "import torch\n",
        "import timm\n",
        "import numpy as np\n",
        "import matplotlib.pyplot as plt\n",
        "import cv2\n",
        "import os\n",
        "import albumentations as A\n",
        "from albumentations.pytorch import ToTensorV2\n",
        "from torch.utils.data import Dataset, DataLoader\n",
        "\n",
        "# Define device, model, test_loader, classes, IMG_SIZE, MEAN, STD\n",
        "device = torch.device(\"cuda\" if torch.cuda.is_available() else \"cpu\")\n",
        "# Assuming SPLIT_DIR is defined from the data splitting step\n",
        "SPLIT_DIR = \"/content/plant_split\" # Re-defining SPLIT_DIR\n",
        "classes = sorted(os.listdir(os.path.join(SPLIT_DIR, \"train\"))) # Re-defining classes\n",
        "IMG_SIZE = 224\n",
        "MEAN = (0.485,0.456,0.406)\n",
        "STD  = (0.229,0.224,0.225)\n",
        "\n",
        "val_tfms = A.Compose([\n",
        "    A.Resize(IMG_SIZE, IMG_SIZE),\n",
        "    A.Normalize(mean=MEAN, std=STD),\n",
        "    ToTensorV2()\n",
        "])\n",
        "\n",
        "class ImageFolderA(Dataset):\n",
        "    def __init__(self, root, tfm):\n",
        "        self.items, self.labels, self.classes = [], [], sorted(os.listdir(root))\n",
        "        self.class_to_idx = {c:i for i,c in enumerate(self.classes)}\n",
        "        for c in self.classes:\n",
        "            cdir = os.path.join(root, c)\n",
        "            for f in os.listdir(cdir):\n",
        "                self.items.append(os.path.join(cdir, f))\n",
        "                self.labels.append(self.class_to_idx[c])\n",
        "        self.tfm = tfm\n",
        "    def __len__(self): return len(self.items)\n",
        "    def __getitem__(self, i):\n",
        "        path, y = self.items[i], self.labels[i]\n",
        "        im = cv2.cvtColor(cv2.imread(path), cv2.COLOR_BGR2RGB)\n",
        "        im = self.tfm(image=im)[\"image\"]\n",
        "        return im, y\n",
        "\n",
        "test_ds  = ImageFolderA(os.path.join(SPLIT_DIR, \"test\"),  val_tfms)\n",
        "\n",
        "BATCH = 64\n",
        "test_loader  = DataLoader(test_ds,  batch_size=BATCH, shuffle=False, num_workers=2, pin_memory=True)\n",
        "\n",
        "model = timm.create_model(\"efficientnet_b0\", pretrained=True, num_classes=len(classes))\n",
        "model.to(device)\n",
        "\n",
        "\n",
        "target_layers = [model.get_submodule(\"conv_head\")] if hasattr(model, \"conv_head\") else [list(model.children())[-2]]\n",
        "cam = GradCAM(model=model, target_layers=target_layers)\n",
        "\n",
        "# Take one test image\n",
        "x,y = next(iter(test_loader))\n",
        "img = x[0:1].to(device)\n",
        "pred = model(img).argmax(1).item()\n",
        "grayscale_cam = cam(input_tensor=img, targets=[ClassifierOutputTarget(pred)])[0]\n",
        "rgb = (x[0].permute(1,2,0).numpy()*STD + MEAN).clip(0,1)\n",
        "vis = show_cam_on_image(rgb.astype(np.float32), grayscale_cam, use_rgb=True)\n",
        "plt.figure(figsize=(5,5)); plt.imshow(vis); plt.axis('off'); plt.title(f\"Grad-CAM → {classes[pred]}\"); plt.show()"
      ],
      "metadata": {
        "colab": {
          "base_uri": "https://localhost:8080/",
          "height": 479
        },
        "id": "VIpncMISF0rF",
        "outputId": "9a467880-6b7e-4d53-c229-755d3b192deb"
      },
      "execution_count": 6,
      "outputs": [
        {
          "output_type": "stream",
          "name": "stderr",
          "text": [
            "/usr/local/lib/python3.12/dist-packages/torch/utils/data/dataloader.py:666: UserWarning: 'pin_memory' argument is set as true but no accelerator is found, then device pinned memory won't be used.\n",
            "  warnings.warn(warn_msg)\n"
          ]
        },
        {
          "output_type": "display_data",
          "data": {
            "text/plain": [
              "<Figure size 500x500 with 1 Axes>"
            ],
            "image/png": "[encoded data removed]"
          },
          "metadata": {}
        }
      ]
    }
  ]
}